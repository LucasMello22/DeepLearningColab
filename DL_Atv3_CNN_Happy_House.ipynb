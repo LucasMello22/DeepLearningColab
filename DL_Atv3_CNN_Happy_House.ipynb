{
  "nbformat": 4,
  "nbformat_minor": 0,
  "metadata": {
    "colab": {
      "provenance": []
    },
    "kernelspec": {
      "name": "python3",
      "display_name": "Python 3"
    },
    "accelerator": "GPU"
  },
  "cells": [
    {
      "cell_type": "markdown",
      "metadata": {
        "id": "AWJLz2QvXRB4"
      },
      "source": [
        "# Prática Keras - A casa feliz\n",
        "\n",
        "Nesse exercício você ira trabalhar no problema \"Casa Feliz\".\n",
        "\n"
      ]
    },
    {
      "cell_type": "code",
      "metadata": {
        "id": "MZO2KBd2Xa4Q",
        "outputId": "3d783c72-d203-4f81-9271-faff544eafa3",
        "colab": {
          "base_uri": "https://localhost:8080/"
        }
      },
      "source": [
        "!git clone https://github.com/filiperobotic/DL_Mestrado.git\n",
        "!git clone https://github.com/filiperobotic/datasets.git"
      ],
      "execution_count": null,
      "outputs": [
        {
          "output_type": "stream",
          "name": "stdout",
          "text": [
            "Cloning into 'DL_Mestrado'...\n",
            "remote: Enumerating objects: 212, done.\u001b[K\n",
            "remote: Counting objects: 100% (109/109), done.\u001b[K\n",
            "remote: Compressing objects: 100% (69/69), done.\u001b[K\n",
            "remote: Total 212 (delta 41), reused 98 (delta 37), pack-reused 103\u001b[K\n",
            "Receiving objects: 100% (212/212), 5.56 MiB | 28.33 MiB/s, done.\n",
            "Resolving deltas: 100% (76/76), done.\n",
            "Cloning into 'datasets'...\n",
            "remote: Enumerating objects: 10, done.\u001b[K\n",
            "remote: Total 10 (delta 0), reused 0 (delta 0), pack-reused 10\u001b[K\n",
            "Receiving objects: 100% (10/10), 7.49 MiB | 19.51 MiB/s, done.\n",
            "Resolving deltas: 100% (1/1), done.\n"
          ]
        }
      ]
    },
    {
      "cell_type": "code",
      "metadata": {
        "id": "JztItqUBXRB7"
      },
      "source": [
        "import numpy as np\n",
        "from tensorflow.keras import layers\n",
        "from tensorflow.keras.layers import Input, Dense, Activation, ZeroPadding2D, BatchNormalization, Flatten, Conv2D\n",
        "from tensorflow.keras.layers import AveragePooling2D, MaxPooling2D, Dropout, GlobalMaxPooling2D, GlobalAveragePooling2D\n",
        "from tensorflow.keras.models import Model\n",
        "from tensorflow.keras.preprocessing import image\n",
        "from tensorflow.keras.utils import plot_model\n",
        "from tensorflow.keras.utils import model_to_dot\n",
        "from tensorflow.keras.utils import get_file\n",
        "from tensorflow.keras.applications.imagenet_utils import preprocess_input\n",
        "import pydot\n",
        "from IPython.display import SVG\n",
        "from datasets.kt_utils import *\n",
        "\n",
        "import tensorflow.keras.backend as K\n",
        "K.set_image_data_format('channels_last')\n",
        "import matplotlib.pyplot as plt\n",
        "from matplotlib.pyplot import imshow\n",
        "\n",
        "%matplotlib inline\n"
      ],
      "execution_count": null,
      "outputs": []
    },
    {
      "cell_type": "markdown",
      "metadata": {
        "id": "WKA88AKTXRCQ"
      },
      "source": [
        "## 1 - A Casa Feliz\n",
        "\n",
        "Para suas próximas férias, você decidiu passar a semana com 5 amigos. É uma casa muito boa com muitas coisas para fazer por perto. Mas o mais importante benefício é que todo mundo se comprometeu a estar feliz enquanto estiverem na casa. Então, todo mundo que quiser entrar na casa tem que provar o seu estado de alegria.\n",
        "\n",
        "\n",
        "<img src=\"https://github.com/filiperobotic/DL_Mestrado/blob/master/imagens/happy-house.jpg?raw=1\" style=\"width:350px;height:270px;\">\n",
        "<caption><center> <u> <font color='purple'> **Figure 1** </u><font color='purple'>  : **a Casa Feliz**</center></caption>\n",
        "\n",
        "Como um especialista de deep learning, para assegurar que o estado de \"alegria\" foi rigorosamente aplicado, você irá desenvolver um algoritmo que usa a foto das pessoas através da câmera da porta de entrada para checar se a pessoa está feliz ou não. A porta deverá abrir apenas se a pessoa estiver feliz!!!\n",
        "  \n",
        "Você coletou fotos dos seus amigos e suas, tiradas da câmera da porta de entrara. A base de dados está rotulada.\n",
        "\n",
        "<img src=\"https://github.com/filiperobotic/DL_Mestrado/blob/master/imagens/house-members.png?raw=1\" style=\"width:550px;height:250px;\">\n",
        "\n",
        "Execute os seguintes comandos para normalizar a base e observar o formato dela."
      ]
    },
    {
      "cell_type": "code",
      "metadata": {
        "id": "QBTOPaf5XRCS",
        "colab": {
          "base_uri": "https://localhost:8080/"
        },
        "outputId": "bb9aa608-0be9-424c-b179-c9b83ea12bdb"
      },
      "source": [
        "X_train_orig, Y_train_orig, X_test_orig, Y_test_orig, classes = load_dataset()\n",
        "\n",
        "# Normalize image vectors\n",
        "X_train = X_train_orig/255.\n",
        "X_test = X_test_orig/255.\n",
        "\n",
        "# Reshape\n",
        "Y_train = Y_train_orig.T\n",
        "Y_test = Y_test_orig.T\n",
        "\n",
        "print (\"number of training examples = \" + str(X_train.shape[0]))\n",
        "print (\"number of test examples = \" + str(X_test.shape[0]))\n",
        "print (\"X_train shape: \" + str(X_train.shape))\n",
        "print (\"Y_train shape: \" + str(Y_train.shape))\n",
        "print (\"X_test shape: \" + str(X_test.shape))\n",
        "print (\"Y_test shape: \" + str(Y_test.shape))"
      ],
      "execution_count": null,
      "outputs": [
        {
          "output_type": "stream",
          "name": "stdout",
          "text": [
            "number of training examples = 600\n",
            "number of test examples = 150\n",
            "X_train shape: (600, 64, 64, 3)\n",
            "Y_train shape: (600, 1)\n",
            "X_test shape: (150, 64, 64, 3)\n",
            "Y_test shape: (150, 1)\n"
          ]
        }
      ]
    },
    {
      "cell_type": "markdown",
      "metadata": {
        "id": "GJBR9z7vXRCW"
      },
      "source": [
        "**Detalhes da base \"Happy\" **:\n",
        "- Imagens são da forma (64,64,3)\n",
        "- Treinamento: 600 imagens\n",
        "- Teste: 150 imagens\n"
      ]
    },
    {
      "cell_type": "markdown",
      "metadata": {
        "id": "31B3DNeoXRCY"
      },
      "source": [
        "## 2 - Construindo um modelo no Keras\n",
        "\n",
        "Keras é muito bom para prototipação rápida. Em apenas poouco tempo é possível construir um modelo que obtém excelentes resultados.\n",
        "\n",
        "Aqui está um exemplo de modelo no Keras:\n",
        "\n",
        "```python\n",
        "def model(input_shape):\n",
        "    # Define the input placeholder as a tensor with shape input_shape. Think of this as your input image!\n",
        "    X_input = Input(input_shape)\n",
        "\n",
        "    # Zero-Padding: pads the border of X_input with zeroes\n",
        "    X = ZeroPadding2D((3, 3))(X_input)\n",
        "\n",
        "    # CONV -> BN -> RELU Block applied to X\n",
        "    X = Conv2D(32, (7, 7), strides = (1, 1), name = 'conv0')(X)\n",
        "    X = BatchNormalization(axis = 3, name = 'bn0')(X)\n",
        "    X = Activation('relu')(X)\n",
        "\n",
        "    # MAXPOOL\n",
        "    X = MaxPooling2D((2, 2), name='max_pool')(X)\n",
        "\n",
        "    # FLATTEN X (means convert it to a vector) + FULLYCONNECTED\n",
        "    X = Flatten()(X)\n",
        "    X = Dense(1, activation='sigmoid', name='fc')(X)\n",
        "\n",
        "    # Create model. This creates your Keras model instance, you'll use this instance to train/test the model.\n",
        "    model = Model(inputs = X_input, outputs = X, name='HappyModel')\n",
        "    \n",
        "    return model\n",
        "```\n",
        "\n",
        "\n",
        "\n",
        "**Exercício**: Implemente o modelo 'HappyModel()'. Sugerimos começar a implementação usando o modelo acima com a arquitetura que sugerimos. Posteriormente, volte e tente variar a arquitetura. Você pode testar outras camadas como AveragePooling2D, Dropout, BatchNormalization.\n"
      ]
    },
    {
      "cell_type": "code",
      "metadata": {
        "id": "UUix4GnvXRCZ"
      },
      "source": [
        "def HappyModel(input_shape):\n",
        "    \"\"\"\n",
        "    Implementation of the HappyModel.\n",
        "\n",
        "    Arguments:\n",
        "    input_shape -- shape of the images of the dataset\n",
        "\n",
        "    Returns:\n",
        "    model -- a Model() instance in Keras\n",
        "    \"\"\"\n",
        "\n",
        "    # Define the input placeholder as a tensor with shape input_shape\n",
        "    X_input = Input(input_shape)\n",
        "\n",
        "    # Zero-Padding: pads the border of X_input with zeroes\n",
        "    X = ZeroPadding2D((3, 3))(X_input)\n",
        "\n",
        "    # CONV -> BN -> RELU Block applied to X\n",
        "    X = Conv2D(32, (7, 7), strides=(1, 1), name='conv1')(X)\n",
        "    X = BatchNormalization(axis=3, name='bn1')(X)\n",
        "    X = Activation('relu')(X)\n",
        "\n",
        "    # MAXPOOL\n",
        "    X = MaxPooling2D((2, 2), name='max_pool1')(X)\n",
        "\n",
        "    # FLATTEN X (means convert it to a vector) + FULLYCONNECTED\n",
        "    X = Flatten()(X)\n",
        "    X = Dense(1, activation='sigmoid', name='fc')(X)\n",
        "\n",
        "    # Create model\n",
        "    model = Model(inputs=X_input, outputs=X, name='HappyModel')\n",
        "\n",
        "    return model\n"
      ],
      "execution_count": null,
      "outputs": []
    },
    {
      "cell_type": "markdown",
      "metadata": {
        "id": "9wYTyt3uXRCd"
      },
      "source": [
        "Você contruiu uma função para descrever o modelo. Par atreinar e testar o modelo, são necessários 4 passos no Keras:\n",
        "1. Criar o modelo chamando a função acima\n",
        "2. Compilar o modelo chamando  `model.compile(optimizer = \"...\", loss = \"...\", metrics = [\"accuracy\"])`\n",
        "3. Treinar o modelo no conjunto de treino chamando `model.fit(x = ..., y = ..., epochs = ..., batch_size = ...)`\n",
        "4. Testar o modelo no conjunto de teste chamando `model.evaluate(x = ..., y = ...)`\n",
        "\n",
        "\n",
        "\n",
        "**Exercício**: Implemente o passo 1 (criar o modelo)."
      ]
    },
    {
      "cell_type": "code",
      "metadata": {
        "id": "Y_vGFW-YXRCf"
      },
      "source": [
        "### START CODE HERE ### (1 line)\n",
        "\n",
        "happyModel = HappyModel(input_shape=(64, 64, 3))\n",
        "### END CODE HERE ###\n"
      ],
      "execution_count": null,
      "outputs": []
    },
    {
      "cell_type": "markdown",
      "metadata": {
        "id": "K_S9WxW9XRCj"
      },
      "source": [
        "**Exercício**: Implemente o passo2 (compliar o modelo). Escolha os 3 argumentos de `compile()` cuidadosamente. Dica: esse é um problema de classificação binária."
      ]
    },
    {
      "cell_type": "code",
      "metadata": {
        "id": "SzxzyRRrXRCk"
      },
      "source": [
        "### START CODE HERE ###\n",
        "happyModel.compile(optimizer='adam', loss='binary_crossentropy', metrics=['accuracy'])\n",
        "### END CODE HERE ###\n"
      ],
      "execution_count": null,
      "outputs": []
    },
    {
      "cell_type": "markdown",
      "metadata": {
        "id": "QZEfWG4wXRCn"
      },
      "source": [
        "**Exercício**: Implemente o passo 3 (treinar o modelo). Escolha o número de épocas e o batch size."
      ]
    },
    {
      "cell_type": "code",
      "metadata": {
        "id": "x6OFBYY2XRCp",
        "colab": {
          "base_uri": "https://localhost:8080/"
        },
        "outputId": "dde90a93-ddb9-4536-b4dc-964dc0f6fdea"
      },
      "source": [
        "### START CODE HERE ### (1 line)\n",
        "epochs = 10\n",
        "batch_size = 32\n",
        "happyModel.fit(x=X_train, y=Y_train, epochs=epochs, batch_size=batch_size)\n",
        "### END CODE HERE ###"
      ],
      "execution_count": null,
      "outputs": [
        {
          "output_type": "stream",
          "name": "stdout",
          "text": [
            "Epoch 1/10\n",
            "19/19 [==============================] - 1s 8ms/step - loss: 2.5184 - accuracy: 0.5600\n",
            "Epoch 2/10\n",
            "19/19 [==============================] - 0s 8ms/step - loss: 0.4926 - accuracy: 0.8033\n",
            "Epoch 3/10\n",
            "19/19 [==============================] - 0s 7ms/step - loss: 0.2436 - accuracy: 0.9050\n",
            "Epoch 4/10\n",
            "19/19 [==============================] - 0s 7ms/step - loss: 0.1528 - accuracy: 0.9467\n",
            "Epoch 5/10\n",
            "19/19 [==============================] - 0s 7ms/step - loss: 0.1600 - accuracy: 0.9367\n",
            "Epoch 6/10\n",
            "19/19 [==============================] - 0s 7ms/step - loss: 0.1552 - accuracy: 0.9417\n",
            "Epoch 7/10\n",
            "19/19 [==============================] - 0s 7ms/step - loss: 0.1179 - accuracy: 0.9583\n",
            "Epoch 8/10\n",
            "19/19 [==============================] - 0s 7ms/step - loss: 0.0818 - accuracy: 0.9783\n",
            "Epoch 9/10\n",
            "19/19 [==============================] - 0s 7ms/step - loss: 0.0810 - accuracy: 0.9717\n",
            "Epoch 10/10\n",
            "19/19 [==============================] - 0s 6ms/step - loss: 0.0533 - accuracy: 0.9867\n"
          ]
        },
        {
          "output_type": "execute_result",
          "data": {
            "text/plain": [
              "<keras.src.callbacks.History at 0x7e25a9700fa0>"
            ]
          },
          "metadata": {},
          "execution_count": 75
        }
      ]
    },
    {
      "cell_type": "markdown",
      "metadata": {
        "id": "FpCuNdN9XRCv"
      },
      "source": [
        "\n",
        "\n",
        "**Exercício**: Implemente o passo 4. (testar/avaliar o modelo)"
      ]
    },
    {
      "cell_type": "code",
      "metadata": {
        "scrolled": true,
        "id": "BwKbpCHGXRCw",
        "colab": {
          "base_uri": "https://localhost:8080/"
        },
        "outputId": "9e3e165d-6881-4058-ce99-1f2e1ba314cf"
      },
      "source": [
        "### START CODE HERE ### (1 line)\n",
        "preds = happyModel.evaluate(x=X_test, y=Y_test)\n",
        "### END CODE HERE ###\n",
        "print()\n",
        "print (\"Loss = \" + str(preds[0]))\n",
        "print (\"Test Accuracy = \" + str(preds[1]))"
      ],
      "execution_count": null,
      "outputs": [
        {
          "output_type": "stream",
          "name": "stdout",
          "text": [
            "5/5 [==============================] - 0s 5ms/step - loss: 0.2631 - accuracy: 0.9267\n",
            "\n",
            "Loss = 0.26314273476600647\n",
            "Test Accuracy = 0.9266666769981384\n"
          ]
        }
      ]
    },
    {
      "cell_type": "markdown",
      "metadata": {
        "id": "AtkKC41_XRC0"
      },
      "source": [
        "Se seu  `happyModel()` funcionou, você deverá observar uma acurácia muito melhor que o método aleatório (50%) nons conjuntos de treino e teste. É esperado que você consiga uma acurácia de pelo menos 75%.\n",
        "\n",
        "\n",
        "**Observação**: Se você realizar ajuste de hiperparâmetro no seu modelo, o conjunto de teste na verdade se torna seu conjunto de validação, e seu modelo pode acabar decorando (overfitting) o conjunto de teste. Mas por enquanto, apenas para fins de exercício, não vamos nos preocupar com isso.\n"
      ]
    },
    {
      "cell_type": "markdown",
      "metadata": {
        "id": "4m-LmoMnXRC5"
      },
      "source": [
        "## 3 - Teste com sua própria imagem (Opcional)\n",
        "\n",
        "Veja se você seria capaz de entrar na casa. Para isso:\n",
        "    1. Faça o upload da sua imagem\n",
        "    3. Escreva o caminho dela no código abaixo\n",
        "    4. Rode o código abaixo e verifique se o algoritmo está certo ( é infeliz, 1 é feliz)!\n",
        "    \n"
      ]
    },
    {
      "cell_type": "code",
      "metadata": {
        "id": "DSGNuytbXRC6",
        "outputId": "c391285d-c5f4-4e02-afad-26b0bf4e2dd4",
        "colab": {
          "base_uri": "https://localhost:8080/",
          "height": 38
        }
      },
      "source": [
        "from google.colab import files\n",
        "import numpy as np\n",
        "import matplotlib.pyplot as plt\n",
        "\n",
        "### START CODE HERE ###\n",
        "uploaded = files.upload()\n",
        "img_path = next(iter(uploaded))\n",
        "\n",
        "### END CODE HERE ###\n",
        "img = image.load_img(img_path, target_size=(64, 64))\n",
        "fig=plt.figure(figsize=(3,3))\n",
        "ax = fig.add_subplot(1,1,1, xticks=[], yticks=[])\n",
        "ax.imshow(img)\n",
        "\n",
        "x = image.img_to_array(img)\n",
        "x = np.expand_dims(x, axis=0)\n",
        "x = preprocess_input(x)\n",
        "\n",
        "print(happyModel.predict(x))\n"
      ],
      "execution_count": null,
      "outputs": [
        {
          "output_type": "display_data",
          "data": {
            "text/plain": [
              "<IPython.core.display.HTML object>"
            ],
            "text/html": [
              "\n",
              "     <input type=\"file\" id=\"files-d611fa8e-fd72-423f-9122-3f452f4ea996\" name=\"files[]\" multiple disabled\n",
              "        style=\"border:none\" />\n",
              "     <output id=\"result-d611fa8e-fd72-423f-9122-3f452f4ea996\">\n",
              "      Upload widget is only available when the cell has been executed in the\n",
              "      current browser session. Please rerun this cell to enable.\n",
              "      </output>\n",
              "      <script>// Copyright 2017 Google LLC\n",
              "//\n",
              "// Licensed under the Apache License, Version 2.0 (the \"License\");\n",
              "// you may not use this file except in compliance with the License.\n",
              "// You may obtain a copy of the License at\n",
              "//\n",
              "//      http://www.apache.org/licenses/LICENSE-2.0\n",
              "//\n",
              "// Unless required by applicable law or agreed to in writing, software\n",
              "// distributed under the License is distributed on an \"AS IS\" BASIS,\n",
              "// WITHOUT WARRANTIES OR CONDITIONS OF ANY KIND, either express or implied.\n",
              "// See the License for the specific language governing permissions and\n",
              "// limitations under the License.\n",
              "\n",
              "/**\n",
              " * @fileoverview Helpers for google.colab Python module.\n",
              " */\n",
              "(function(scope) {\n",
              "function span(text, styleAttributes = {}) {\n",
              "  const element = document.createElement('span');\n",
              "  element.textContent = text;\n",
              "  for (const key of Object.keys(styleAttributes)) {\n",
              "    element.style[key] = styleAttributes[key];\n",
              "  }\n",
              "  return element;\n",
              "}\n",
              "\n",
              "// Max number of bytes which will be uploaded at a time.\n",
              "const MAX_PAYLOAD_SIZE = 100 * 1024;\n",
              "\n",
              "function _uploadFiles(inputId, outputId) {\n",
              "  const steps = uploadFilesStep(inputId, outputId);\n",
              "  const outputElement = document.getElementById(outputId);\n",
              "  // Cache steps on the outputElement to make it available for the next call\n",
              "  // to uploadFilesContinue from Python.\n",
              "  outputElement.steps = steps;\n",
              "\n",
              "  return _uploadFilesContinue(outputId);\n",
              "}\n",
              "\n",
              "// This is roughly an async generator (not supported in the browser yet),\n",
              "// where there are multiple asynchronous steps and the Python side is going\n",
              "// to poll for completion of each step.\n",
              "// This uses a Promise to block the python side on completion of each step,\n",
              "// then passes the result of the previous step as the input to the next step.\n",
              "function _uploadFilesContinue(outputId) {\n",
              "  const outputElement = document.getElementById(outputId);\n",
              "  const steps = outputElement.steps;\n",
              "\n",
              "  const next = steps.next(outputElement.lastPromiseValue);\n",
              "  return Promise.resolve(next.value.promise).then((value) => {\n",
              "    // Cache the last promise value to make it available to the next\n",
              "    // step of the generator.\n",
              "    outputElement.lastPromiseValue = value;\n",
              "    return next.value.response;\n",
              "  });\n",
              "}\n",
              "\n",
              "/**\n",
              " * Generator function which is called between each async step of the upload\n",
              " * process.\n",
              " * @param {string} inputId Element ID of the input file picker element.\n",
              " * @param {string} outputId Element ID of the output display.\n",
              " * @return {!Iterable<!Object>} Iterable of next steps.\n",
              " */\n",
              "function* uploadFilesStep(inputId, outputId) {\n",
              "  const inputElement = document.getElementById(inputId);\n",
              "  inputElement.disabled = false;\n",
              "\n",
              "  const outputElement = document.getElementById(outputId);\n",
              "  outputElement.innerHTML = '';\n",
              "\n",
              "  const pickedPromise = new Promise((resolve) => {\n",
              "    inputElement.addEventListener('change', (e) => {\n",
              "      resolve(e.target.files);\n",
              "    });\n",
              "  });\n",
              "\n",
              "  const cancel = document.createElement('button');\n",
              "  inputElement.parentElement.appendChild(cancel);\n",
              "  cancel.textContent = 'Cancel upload';\n",
              "  const cancelPromise = new Promise((resolve) => {\n",
              "    cancel.onclick = () => {\n",
              "      resolve(null);\n",
              "    };\n",
              "  });\n",
              "\n",
              "  // Wait for the user to pick the files.\n",
              "  const files = yield {\n",
              "    promise: Promise.race([pickedPromise, cancelPromise]),\n",
              "    response: {\n",
              "      action: 'starting',\n",
              "    }\n",
              "  };\n",
              "\n",
              "  cancel.remove();\n",
              "\n",
              "  // Disable the input element since further picks are not allowed.\n",
              "  inputElement.disabled = true;\n",
              "\n",
              "  if (!files) {\n",
              "    return {\n",
              "      response: {\n",
              "        action: 'complete',\n",
              "      }\n",
              "    };\n",
              "  }\n",
              "\n",
              "  for (const file of files) {\n",
              "    const li = document.createElement('li');\n",
              "    li.append(span(file.name, {fontWeight: 'bold'}));\n",
              "    li.append(span(\n",
              "        `(${file.type || 'n/a'}) - ${file.size} bytes, ` +\n",
              "        `last modified: ${\n",
              "            file.lastModifiedDate ? file.lastModifiedDate.toLocaleDateString() :\n",
              "                                    'n/a'} - `));\n",
              "    const percent = span('0% done');\n",
              "    li.appendChild(percent);\n",
              "\n",
              "    outputElement.appendChild(li);\n",
              "\n",
              "    const fileDataPromise = new Promise((resolve) => {\n",
              "      const reader = new FileReader();\n",
              "      reader.onload = (e) => {\n",
              "        resolve(e.target.result);\n",
              "      };\n",
              "      reader.readAsArrayBuffer(file);\n",
              "    });\n",
              "    // Wait for the data to be ready.\n",
              "    let fileData = yield {\n",
              "      promise: fileDataPromise,\n",
              "      response: {\n",
              "        action: 'continue',\n",
              "      }\n",
              "    };\n",
              "\n",
              "    // Use a chunked sending to avoid message size limits. See b/62115660.\n",
              "    let position = 0;\n",
              "    do {\n",
              "      const length = Math.min(fileData.byteLength - position, MAX_PAYLOAD_SIZE);\n",
              "      const chunk = new Uint8Array(fileData, position, length);\n",
              "      position += length;\n",
              "\n",
              "      const base64 = btoa(String.fromCharCode.apply(null, chunk));\n",
              "      yield {\n",
              "        response: {\n",
              "          action: 'append',\n",
              "          file: file.name,\n",
              "          data: base64,\n",
              "        },\n",
              "      };\n",
              "\n",
              "      let percentDone = fileData.byteLength === 0 ?\n",
              "          100 :\n",
              "          Math.round((position / fileData.byteLength) * 100);\n",
              "      percent.textContent = `${percentDone}% done`;\n",
              "\n",
              "    } while (position < fileData.byteLength);\n",
              "  }\n",
              "\n",
              "  // All done.\n",
              "  yield {\n",
              "    response: {\n",
              "      action: 'complete',\n",
              "    }\n",
              "  };\n",
              "}\n",
              "\n",
              "scope.google = scope.google || {};\n",
              "scope.google.colab = scope.google.colab || {};\n",
              "scope.google.colab._files = {\n",
              "  _uploadFiles,\n",
              "  _uploadFilesContinue,\n",
              "};\n",
              "})(self);\n",
              "</script> "
            ]
          },
          "metadata": {}
        },
        {
          "output_type": "error",
          "ename": "KeyboardInterrupt",
          "evalue": "",
          "traceback": [
            "\u001b[0;31m---------------------------------------------------------------------------\u001b[0m",
            "\u001b[0;31mKeyboardInterrupt\u001b[0m                         Traceback (most recent call last)",
            "\u001b[0;32m<ipython-input-2-273f052901ba>\u001b[0m in \u001b[0;36m<cell line: 6>\u001b[0;34m()\u001b[0m\n\u001b[1;32m      4\u001b[0m \u001b[0;34m\u001b[0m\u001b[0m\n\u001b[1;32m      5\u001b[0m \u001b[0;31m### START CODE HERE ###\u001b[0m\u001b[0;34m\u001b[0m\u001b[0;34m\u001b[0m\u001b[0m\n\u001b[0;32m----> 6\u001b[0;31m \u001b[0muploaded\u001b[0m \u001b[0;34m=\u001b[0m \u001b[0mfiles\u001b[0m\u001b[0;34m.\u001b[0m\u001b[0mupload\u001b[0m\u001b[0;34m(\u001b[0m\u001b[0;34m)\u001b[0m\u001b[0;34m\u001b[0m\u001b[0;34m\u001b[0m\u001b[0m\n\u001b[0m\u001b[1;32m      7\u001b[0m \u001b[0mimg_path\u001b[0m \u001b[0;34m=\u001b[0m \u001b[0mnext\u001b[0m\u001b[0;34m(\u001b[0m\u001b[0miter\u001b[0m\u001b[0;34m(\u001b[0m\u001b[0muploaded\u001b[0m\u001b[0;34m)\u001b[0m\u001b[0;34m)\u001b[0m\u001b[0;34m\u001b[0m\u001b[0;34m\u001b[0m\u001b[0m\n\u001b[1;32m      8\u001b[0m \u001b[0;34m\u001b[0m\u001b[0m\n",
            "\u001b[0;32m/usr/local/lib/python3.10/dist-packages/google/colab/files.py\u001b[0m in \u001b[0;36mupload\u001b[0;34m()\u001b[0m\n\u001b[1;32m     67\u001b[0m   \"\"\"\n\u001b[1;32m     68\u001b[0m \u001b[0;34m\u001b[0m\u001b[0m\n\u001b[0;32m---> 69\u001b[0;31m   \u001b[0muploaded_files\u001b[0m \u001b[0;34m=\u001b[0m \u001b[0m_upload_files\u001b[0m\u001b[0;34m(\u001b[0m\u001b[0mmultiple\u001b[0m\u001b[0;34m=\u001b[0m\u001b[0;32mTrue\u001b[0m\u001b[0;34m)\u001b[0m\u001b[0;34m\u001b[0m\u001b[0;34m\u001b[0m\u001b[0m\n\u001b[0m\u001b[1;32m     70\u001b[0m   \u001b[0;31m# Mapping from original filename to filename as saved locally.\u001b[0m\u001b[0;34m\u001b[0m\u001b[0;34m\u001b[0m\u001b[0m\n\u001b[1;32m     71\u001b[0m   \u001b[0mlocal_filenames\u001b[0m \u001b[0;34m=\u001b[0m \u001b[0mdict\u001b[0m\u001b[0;34m(\u001b[0m\u001b[0;34m)\u001b[0m\u001b[0;34m\u001b[0m\u001b[0;34m\u001b[0m\u001b[0m\n",
            "\u001b[0;32m/usr/local/lib/python3.10/dist-packages/google/colab/files.py\u001b[0m in \u001b[0;36m_upload_files\u001b[0;34m(multiple)\u001b[0m\n\u001b[1;32m    154\u001b[0m \u001b[0;34m\u001b[0m\u001b[0m\n\u001b[1;32m    155\u001b[0m   \u001b[0;31m# First result is always an indication that the file picker has completed.\u001b[0m\u001b[0;34m\u001b[0m\u001b[0;34m\u001b[0m\u001b[0m\n\u001b[0;32m--> 156\u001b[0;31m   result = _output.eval_js(\n\u001b[0m\u001b[1;32m    157\u001b[0m       'google.colab._files._uploadFiles(\"{input_id}\", \"{output_id}\")'.format(\n\u001b[1;32m    158\u001b[0m           \u001b[0minput_id\u001b[0m\u001b[0;34m=\u001b[0m\u001b[0minput_id\u001b[0m\u001b[0;34m,\u001b[0m \u001b[0moutput_id\u001b[0m\u001b[0;34m=\u001b[0m\u001b[0moutput_id\u001b[0m\u001b[0;34m\u001b[0m\u001b[0;34m\u001b[0m\u001b[0m\n",
            "\u001b[0;32m/usr/local/lib/python3.10/dist-packages/google/colab/output/_js.py\u001b[0m in \u001b[0;36meval_js\u001b[0;34m(script, ignore_result, timeout_sec)\u001b[0m\n\u001b[1;32m     38\u001b[0m   \u001b[0;32mif\u001b[0m \u001b[0mignore_result\u001b[0m\u001b[0;34m:\u001b[0m\u001b[0;34m\u001b[0m\u001b[0;34m\u001b[0m\u001b[0m\n\u001b[1;32m     39\u001b[0m     \u001b[0;32mreturn\u001b[0m\u001b[0;34m\u001b[0m\u001b[0;34m\u001b[0m\u001b[0m\n\u001b[0;32m---> 40\u001b[0;31m   \u001b[0;32mreturn\u001b[0m \u001b[0m_message\u001b[0m\u001b[0;34m.\u001b[0m\u001b[0mread_reply_from_input\u001b[0m\u001b[0;34m(\u001b[0m\u001b[0mrequest_id\u001b[0m\u001b[0;34m,\u001b[0m \u001b[0mtimeout_sec\u001b[0m\u001b[0;34m)\u001b[0m\u001b[0;34m\u001b[0m\u001b[0;34m\u001b[0m\u001b[0m\n\u001b[0m\u001b[1;32m     41\u001b[0m \u001b[0;34m\u001b[0m\u001b[0m\n\u001b[1;32m     42\u001b[0m \u001b[0;34m\u001b[0m\u001b[0m\n",
            "\u001b[0;32m/usr/local/lib/python3.10/dist-packages/google/colab/_message.py\u001b[0m in \u001b[0;36mread_reply_from_input\u001b[0;34m(message_id, timeout_sec)\u001b[0m\n\u001b[1;32m     94\u001b[0m     \u001b[0mreply\u001b[0m \u001b[0;34m=\u001b[0m \u001b[0m_read_next_input_message\u001b[0m\u001b[0;34m(\u001b[0m\u001b[0;34m)\u001b[0m\u001b[0;34m\u001b[0m\u001b[0;34m\u001b[0m\u001b[0m\n\u001b[1;32m     95\u001b[0m     \u001b[0;32mif\u001b[0m \u001b[0mreply\u001b[0m \u001b[0;34m==\u001b[0m \u001b[0m_NOT_READY\u001b[0m \u001b[0;32mor\u001b[0m \u001b[0;32mnot\u001b[0m \u001b[0misinstance\u001b[0m\u001b[0;34m(\u001b[0m\u001b[0mreply\u001b[0m\u001b[0;34m,\u001b[0m \u001b[0mdict\u001b[0m\u001b[0;34m)\u001b[0m\u001b[0;34m:\u001b[0m\u001b[0;34m\u001b[0m\u001b[0;34m\u001b[0m\u001b[0m\n\u001b[0;32m---> 96\u001b[0;31m       \u001b[0mtime\u001b[0m\u001b[0;34m.\u001b[0m\u001b[0msleep\u001b[0m\u001b[0;34m(\u001b[0m\u001b[0;36m0.025\u001b[0m\u001b[0;34m)\u001b[0m\u001b[0;34m\u001b[0m\u001b[0;34m\u001b[0m\u001b[0m\n\u001b[0m\u001b[1;32m     97\u001b[0m       \u001b[0;32mcontinue\u001b[0m\u001b[0;34m\u001b[0m\u001b[0;34m\u001b[0m\u001b[0m\n\u001b[1;32m     98\u001b[0m     if (\n",
            "\u001b[0;31mKeyboardInterrupt\u001b[0m: "
          ]
        }
      ]
    },
    {
      "cell_type": "code",
      "source": [],
      "metadata": {
        "id": "0HFzYxze-WmB"
      },
      "execution_count": null,
      "outputs": []
    },
    {
      "cell_type": "markdown",
      "metadata": {
        "id": "7reWcKLkXRC-"
      },
      "source": [
        "## 4 - Use outras funções úteis do Keras (Opcional)\n",
        "\n",
        "\n",
        "Duas outras funções básicas do Keras são:\n",
        "- `model.summary()`: imprime os as camadas da rede em uma tabela, com os tamanhos das entradas/saídas\n",
        "- `plot_model()`: plota um grafo do seu modelo. Você pode salvar em um \".png: usando SVG(). Ele fica salvo em \"Arquivos\" na barra lateral do notebook.\n",
        "\n",
        "Rode o seguinte código"
      ]
    },
    {
      "cell_type": "code",
      "metadata": {
        "scrolled": false,
        "id": "kG2Yt6G7XRC_",
        "outputId": "8f76a9ec-e117-4fdd-b06a-e64e6b548692",
        "colab": {
          "base_uri": "https://localhost:8080/"
        }
      },
      "source": [
        "happyModel.summary()"
      ],
      "execution_count": null,
      "outputs": [
        {
          "output_type": "stream",
          "name": "stdout",
          "text": [
            "Model: \"HappyModel\"\n",
            "_________________________________________________________________\n",
            " Layer (type)                Output Shape              Param #   \n",
            "=================================================================\n",
            " input_1 (InputLayer)        [(None, 64, 64, 3)]       0         \n",
            "                                                                 \n",
            " zero_padding2d (ZeroPaddin  (None, 70, 70, 3)         0         \n",
            " g2D)                                                            \n",
            "                                                                 \n",
            " conv1 (Conv2D)              (None, 64, 64, 32)        4736      \n",
            "                                                                 \n",
            " bn1 (BatchNormalization)    (None, 64, 64, 32)        128       \n",
            "                                                                 \n",
            " activation (Activation)     (None, 64, 64, 32)        0         \n",
            "                                                                 \n",
            " max_pool1 (MaxPooling2D)    (None, 32, 32, 32)        0         \n",
            "                                                                 \n",
            " flatten (Flatten)           (None, 32768)             0         \n",
            "                                                                 \n",
            " fc (Dense)                  (None, 1)                 32769     \n",
            "                                                                 \n",
            "=================================================================\n",
            "Total params: 37633 (147.00 KB)\n",
            "Trainable params: 37569 (146.75 KB)\n",
            "Non-trainable params: 64 (256.00 Byte)\n",
            "_________________________________________________________________\n"
          ]
        }
      ]
    },
    {
      "cell_type": "code",
      "metadata": {
        "id": "QoT3VnVDXRDF",
        "outputId": "81ba6597-d418-46b0-f57a-0d0b9a88e783",
        "colab": {
          "base_uri": "https://localhost:8080/",
          "height": 1000
        }
      },
      "source": [
        "plot_model(happyModel, to_file='HappyModel.png')\n",
        "SVG(model_to_dot(happyModel).create(prog='dot', format='svg'))"
      ],
      "execution_count": null,
      "outputs": [
        {
          "output_type": "execute_result",
          "data": {
            "text/plain": [
              "<IPython.core.display.SVG object>"
            ],
            "image/svg+xml": "<svg xmlns=\"http://www.w3.org/2000/svg\" xmlns:xlink=\"http://www.w3.org/1999/xlink\" width=\"287pt\" height=\"741pt\" viewBox=\"0.00 0.00 215.00 556.00\">\n<g id=\"graph0\" class=\"graph\" transform=\"scale(0.75 0.75) rotate(0) translate(4 552)\">\n<title>G</title>\n<polygon fill=\"white\" stroke=\"transparent\" points=\"-4,4 -4,-552 211,-552 211,4 -4,4\"/>\n<!-- 138702569555136 -->\n<g id=\"node1\" class=\"node\">\n<title>138702569555136</title>\n<polygon fill=\"none\" stroke=\"black\" points=\"36,-511.5 36,-547.5 171,-547.5 171,-511.5 36,-511.5\"/>\n<text text-anchor=\"middle\" x=\"65\" y=\"-525.8\" font-family=\"Times,serif\" font-size=\"14.00\">input_1</text>\n<polyline fill=\"none\" stroke=\"black\" points=\"94,-511.5 94,-547.5 \"/>\n<text text-anchor=\"middle\" x=\"132.5\" y=\"-525.8\" font-family=\"Times,serif\" font-size=\"14.00\">InputLayer</text>\n</g>\n<!-- 138700233725392 -->\n<g id=\"node2\" class=\"node\">\n<title>138700233725392</title>\n<polygon fill=\"none\" stroke=\"black\" points=\"0,-438.5 0,-474.5 207,-474.5 207,-438.5 0,-438.5\"/>\n<text text-anchor=\"middle\" x=\"52\" y=\"-452.8\" font-family=\"Times,serif\" font-size=\"14.00\">zero_padding2d</text>\n<polyline fill=\"none\" stroke=\"black\" points=\"104,-438.5 104,-474.5 \"/>\n<text text-anchor=\"middle\" x=\"155.5\" y=\"-452.8\" font-family=\"Times,serif\" font-size=\"14.00\">ZeroPadding2D</text>\n</g>\n<!-- 138702569555136&#45;&gt;138700233725392 -->\n<g id=\"edge1\" class=\"edge\">\n<title>138702569555136-&gt;138700233725392</title>\n<path fill=\"none\" stroke=\"black\" d=\"M103.5,-511.31C103.5,-503.29 103.5,-493.55 103.5,-484.57\"/>\n<polygon fill=\"black\" stroke=\"black\" points=\"107,-484.53 103.5,-474.53 100,-484.53 107,-484.53\"/>\n</g>\n<!-- 138700233734416 -->\n<g id=\"node3\" class=\"node\">\n<title>138700233734416</title>\n<polygon fill=\"none\" stroke=\"black\" points=\"47.5,-365.5 47.5,-401.5 159.5,-401.5 159.5,-365.5 47.5,-365.5\"/>\n<text text-anchor=\"middle\" x=\"72.5\" y=\"-379.8\" font-family=\"Times,serif\" font-size=\"14.00\">conv1</text>\n<polyline fill=\"none\" stroke=\"black\" points=\"97.5,-365.5 97.5,-401.5 \"/>\n<text text-anchor=\"middle\" x=\"128.5\" y=\"-379.8\" font-family=\"Times,serif\" font-size=\"14.00\">Conv2D</text>\n</g>\n<!-- 138700233725392&#45;&gt;138700233734416 -->\n<g id=\"edge2\" class=\"edge\">\n<title>138700233725392-&gt;138700233734416</title>\n<path fill=\"none\" stroke=\"black\" d=\"M103.5,-438.31C103.5,-430.29 103.5,-420.55 103.5,-411.57\"/>\n<polygon fill=\"black\" stroke=\"black\" points=\"107,-411.53 103.5,-401.53 100,-411.53 107,-411.53\"/>\n</g>\n<!-- 138700233721552 -->\n<g id=\"node4\" class=\"node\">\n<title>138700233721552</title>\n<polygon fill=\"none\" stroke=\"black\" points=\"21.5,-292.5 21.5,-328.5 185.5,-328.5 185.5,-292.5 21.5,-292.5\"/>\n<text text-anchor=\"middle\" x=\"40\" y=\"-306.8\" font-family=\"Times,serif\" font-size=\"14.00\">bn1</text>\n<polyline fill=\"none\" stroke=\"black\" points=\"58.5,-292.5 58.5,-328.5 \"/>\n<text text-anchor=\"middle\" x=\"122\" y=\"-306.8\" font-family=\"Times,serif\" font-size=\"14.00\">BatchNormalization</text>\n</g>\n<!-- 138700233734416&#45;&gt;138700233721552 -->\n<g id=\"edge3\" class=\"edge\">\n<title>138700233734416-&gt;138700233721552</title>\n<path fill=\"none\" stroke=\"black\" d=\"M103.5,-365.31C103.5,-357.29 103.5,-347.55 103.5,-338.57\"/>\n<polygon fill=\"black\" stroke=\"black\" points=\"107,-338.53 103.5,-328.53 100,-338.53 107,-338.53\"/>\n</g>\n<!-- 138700233736048 -->\n<g id=\"node5\" class=\"node\">\n<title>138700233736048</title>\n<polygon fill=\"none\" stroke=\"black\" points=\"31.5,-219.5 31.5,-255.5 175.5,-255.5 175.5,-219.5 31.5,-219.5\"/>\n<text text-anchor=\"middle\" x=\"66.5\" y=\"-233.8\" font-family=\"Times,serif\" font-size=\"14.00\">activation</text>\n<polyline fill=\"none\" stroke=\"black\" points=\"101.5,-219.5 101.5,-255.5 \"/>\n<text text-anchor=\"middle\" x=\"138.5\" y=\"-233.8\" font-family=\"Times,serif\" font-size=\"14.00\">Activation</text>\n</g>\n<!-- 138700233721552&#45;&gt;138700233736048 -->\n<g id=\"edge4\" class=\"edge\">\n<title>138700233721552-&gt;138700233736048</title>\n<path fill=\"none\" stroke=\"black\" d=\"M103.5,-292.31C103.5,-284.29 103.5,-274.55 103.5,-265.57\"/>\n<polygon fill=\"black\" stroke=\"black\" points=\"107,-265.53 103.5,-255.53 100,-265.53 107,-265.53\"/>\n</g>\n<!-- 138700233723664 -->\n<g id=\"node6\" class=\"node\">\n<title>138700233723664</title>\n<polygon fill=\"none\" stroke=\"black\" points=\"14,-146.5 14,-182.5 193,-182.5 193,-146.5 14,-146.5\"/>\n<text text-anchor=\"middle\" x=\"53\" y=\"-160.8\" font-family=\"Times,serif\" font-size=\"14.00\">max_pool1</text>\n<polyline fill=\"none\" stroke=\"black\" points=\"92,-146.5 92,-182.5 \"/>\n<text text-anchor=\"middle\" x=\"142.5\" y=\"-160.8\" font-family=\"Times,serif\" font-size=\"14.00\">MaxPooling2D</text>\n</g>\n<!-- 138700233736048&#45;&gt;138700233723664 -->\n<g id=\"edge5\" class=\"edge\">\n<title>138700233736048-&gt;138700233723664</title>\n<path fill=\"none\" stroke=\"black\" d=\"M103.5,-219.31C103.5,-211.29 103.5,-201.55 103.5,-192.57\"/>\n<polygon fill=\"black\" stroke=\"black\" points=\"107,-192.53 103.5,-182.53 100,-192.53 107,-192.53\"/>\n</g>\n<!-- 138700229937040 -->\n<g id=\"node7\" class=\"node\">\n<title>138700229937040</title>\n<polygon fill=\"none\" stroke=\"black\" points=\"51,-73.5 51,-109.5 156,-109.5 156,-73.5 51,-73.5\"/>\n<text text-anchor=\"middle\" x=\"76.5\" y=\"-87.8\" font-family=\"Times,serif\" font-size=\"14.00\">flatten</text>\n<polyline fill=\"none\" stroke=\"black\" points=\"102,-73.5 102,-109.5 \"/>\n<text text-anchor=\"middle\" x=\"129\" y=\"-87.8\" font-family=\"Times,serif\" font-size=\"14.00\">Flatten</text>\n</g>\n<!-- 138700233723664&#45;&gt;138700229937040 -->\n<g id=\"edge6\" class=\"edge\">\n<title>138700233723664-&gt;138700229937040</title>\n<path fill=\"none\" stroke=\"black\" d=\"M103.5,-146.31C103.5,-138.29 103.5,-128.55 103.5,-119.57\"/>\n<polygon fill=\"black\" stroke=\"black\" points=\"107,-119.53 103.5,-109.53 100,-119.53 107,-119.53\"/>\n</g>\n<!-- 138700229940736 -->\n<g id=\"node8\" class=\"node\">\n<title>138700229940736</title>\n<polygon fill=\"none\" stroke=\"black\" points=\"65,-0.5 65,-36.5 142,-36.5 142,-0.5 65,-0.5\"/>\n<text text-anchor=\"middle\" x=\"78.5\" y=\"-14.8\" font-family=\"Times,serif\" font-size=\"14.00\">fc</text>\n<polyline fill=\"none\" stroke=\"black\" points=\"92,-0.5 92,-36.5 \"/>\n<text text-anchor=\"middle\" x=\"117\" y=\"-14.8\" font-family=\"Times,serif\" font-size=\"14.00\">Dense</text>\n</g>\n<!-- 138700229937040&#45;&gt;138700229940736 -->\n<g id=\"edge7\" class=\"edge\">\n<title>138700229937040-&gt;138700229940736</title>\n<path fill=\"none\" stroke=\"black\" d=\"M103.5,-73.31C103.5,-65.29 103.5,-55.55 103.5,-46.57\"/>\n<polygon fill=\"black\" stroke=\"black\" points=\"107,-46.53 103.5,-36.53 100,-46.53 107,-46.53\"/>\n</g>\n</g>\n</svg>"
          },
          "metadata": {},
          "execution_count": 17
        }
      ]
    }
  ]
}